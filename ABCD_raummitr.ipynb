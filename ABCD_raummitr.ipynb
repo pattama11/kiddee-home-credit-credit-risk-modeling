{
  "cells": [
    {
      "cell_type": "markdown",
      "metadata": {
        "id": "Pt3ewn8suaLH"
      },
      "source": [
        "# LLM"
      ]
    },
    {
      "cell_type": "code",
      "execution_count": 1,
      "metadata": {
        "colab": {
          "base_uri": "https://localhost:8080/"
        },
        "collapsed": true,
        "id": "KsD6ISsy5Aix",
        "outputId": "e5cde2af-106f-45ca-cac0-4a120c238540"
      },
      "outputs": [
        {
          "name": "stdout",
          "output_type": "stream",
          "text": [
            "Collecting openai\n",
            "  Downloading openai-1.30.2-py3-none-any.whl (320 kB)\n",
            "\u001b[?25l     \u001b[90m━━━━━━━━━━━━━━━━━━━━━━━━━━━━━━━━━━━━━━━━\u001b[0m \u001b[32m0.0/320.7 kB\u001b[0m \u001b[31m?\u001b[0m eta \u001b[36m-:--:--\u001b[0m\r\u001b[2K     \u001b[91m━━━━━━━━━━━━━━━━━━━━━━━━━━━━━━━\u001b[0m\u001b[91m╸\u001b[0m\u001b[90m━━━━━━━━\u001b[0m \u001b[32m256.0/320.7 kB\u001b[0m \u001b[31m7.6 MB/s\u001b[0m eta \u001b[36m0:00:01\u001b[0m\r\u001b[2K     \u001b[90m━━━━━━━━━━━━━━━━━━━━━━━━━━━━━━━━━━━━━━━━\u001b[0m \u001b[32m320.7/320.7 kB\u001b[0m \u001b[31m6.1 MB/s\u001b[0m eta \u001b[36m0:00:00\u001b[0m\n",
            "\u001b[?25hRequirement already satisfied: graphviz in /usr/local/lib/python3.10/dist-packages (0.20.3)\n",
            "Requirement already satisfied: anyio<5,>=3.5.0 in /usr/local/lib/python3.10/dist-packages (from openai) (3.7.1)\n",
            "Requirement already satisfied: distro<2,>=1.7.0 in /usr/lib/python3/dist-packages (from openai) (1.7.0)\n",
            "Collecting httpx<1,>=0.23.0 (from openai)\n",
            "  Downloading httpx-0.27.0-py3-none-any.whl (75 kB)\n",
            "\u001b[2K     \u001b[90m━━━━━━━━━━━━━━━━━━━━━━━━━━━━━━━━━━━━━━━━\u001b[0m \u001b[32m75.6/75.6 kB\u001b[0m \u001b[31m5.0 MB/s\u001b[0m eta \u001b[36m0:00:00\u001b[0m\n",
            "\u001b[?25hRequirement already satisfied: pydantic<3,>=1.9.0 in /usr/local/lib/python3.10/dist-packages (from openai) (2.7.1)\n",
            "Requirement already satisfied: sniffio in /usr/local/lib/python3.10/dist-packages (from openai) (1.3.1)\n",
            "Requirement already satisfied: tqdm>4 in /usr/local/lib/python3.10/dist-packages (from openai) (4.66.4)\n",
            "Requirement already satisfied: typing-extensions<5,>=4.7 in /usr/local/lib/python3.10/dist-packages (from openai) (4.11.0)\n",
            "Requirement already satisfied: idna>=2.8 in /usr/local/lib/python3.10/dist-packages (from anyio<5,>=3.5.0->openai) (3.7)\n",
            "Requirement already satisfied: exceptiongroup in /usr/local/lib/python3.10/dist-packages (from anyio<5,>=3.5.0->openai) (1.2.1)\n",
            "Requirement already satisfied: certifi in /usr/local/lib/python3.10/dist-packages (from httpx<1,>=0.23.0->openai) (2024.2.2)\n",
            "Collecting httpcore==1.* (from httpx<1,>=0.23.0->openai)\n",
            "  Downloading httpcore-1.0.5-py3-none-any.whl (77 kB)\n",
            "\u001b[2K     \u001b[90m━━━━━━━━━━━━━━━━━━━━━━━━━━━━━━━━━━━━━━━━\u001b[0m \u001b[32m77.9/77.9 kB\u001b[0m \u001b[31m6.3 MB/s\u001b[0m eta \u001b[36m0:00:00\u001b[0m\n",
            "\u001b[?25hCollecting h11<0.15,>=0.13 (from httpcore==1.*->httpx<1,>=0.23.0->openai)\n",
            "  Downloading h11-0.14.0-py3-none-any.whl (58 kB)\n",
            "\u001b[2K     \u001b[90m━━━━━━━━━━━━━━━━━━━━━━━━━━━━━━━━━━━━━━━━\u001b[0m \u001b[32m58.3/58.3 kB\u001b[0m \u001b[31m6.1 MB/s\u001b[0m eta \u001b[36m0:00:00\u001b[0m\n",
            "\u001b[?25hRequirement already satisfied: annotated-types>=0.4.0 in /usr/local/lib/python3.10/dist-packages (from pydantic<3,>=1.9.0->openai) (0.7.0)\n",
            "Requirement already satisfied: pydantic-core==2.18.2 in /usr/local/lib/python3.10/dist-packages (from pydantic<3,>=1.9.0->openai) (2.18.2)\n",
            "Installing collected packages: h11, httpcore, httpx, openai\n",
            "Successfully installed h11-0.14.0 httpcore-1.0.5 httpx-0.27.0 openai-1.30.2\n",
            "Reading package lists... Done\n",
            "Building dependency tree... Done\n",
            "Reading state information... Done\n",
            "graphviz is already the newest version (2.42.2-6).\n",
            "0 upgraded, 0 newly installed, 0 to remove and 45 not upgraded.\n",
            "Collecting langchain\n",
            "  Downloading langchain-0.2.1-py3-none-any.whl (973 kB)\n",
            "\u001b[2K     \u001b[90m━━━━━━━━━━━━━━━━━━━━━━━━━━━━━━━━━━━━━━━━\u001b[0m \u001b[32m973.5/973.5 kB\u001b[0m \u001b[31m13.5 MB/s\u001b[0m eta \u001b[36m0:00:00\u001b[0m\n",
            "\u001b[?25hCollecting langchain_google_genai\n",
            "  Downloading langchain_google_genai-1.0.5-py3-none-any.whl (34 kB)\n",
            "Requirement already satisfied: PyYAML>=5.3 in /usr/local/lib/python3.10/dist-packages (from langchain) (6.0.1)\n",
            "Requirement already satisfied: SQLAlchemy<3,>=1.4 in /usr/local/lib/python3.10/dist-packages (from langchain) (2.0.30)\n",
            "Requirement already satisfied: aiohttp<4.0.0,>=3.8.3 in /usr/local/lib/python3.10/dist-packages (from langchain) (3.9.5)\n",
            "Requirement already satisfied: async-timeout<5.0.0,>=4.0.0 in /usr/local/lib/python3.10/dist-packages (from langchain) (4.0.3)\n",
            "Collecting langchain-core<0.3.0,>=0.2.0 (from langchain)\n",
            "  Downloading langchain_core-0.2.1-py3-none-any.whl (308 kB)\n",
            "\u001b[2K     \u001b[90m━━━━━━━━━━━━━━━━━━━━━━━━━━━━━━━━━━━━━━━━\u001b[0m \u001b[32m308.5/308.5 kB\u001b[0m \u001b[31m17.0 MB/s\u001b[0m eta \u001b[36m0:00:00\u001b[0m\n",
            "\u001b[?25hCollecting langchain-text-splitters<0.3.0,>=0.2.0 (from langchain)\n",
            "  Downloading langchain_text_splitters-0.2.0-py3-none-any.whl (23 kB)\n",
            "Collecting langsmith<0.2.0,>=0.1.17 (from langchain)\n",
            "  Downloading langsmith-0.1.63-py3-none-any.whl (122 kB)\n",
            "\u001b[2K     \u001b[90m━━━━━━━━━━━━━━━━━━━━━━━━━━━━━━━━━━━━━━━━\u001b[0m \u001b[32m122.8/122.8 kB\u001b[0m \u001b[31m15.3 MB/s\u001b[0m eta \u001b[36m0:00:00\u001b[0m\n",
            "\u001b[?25hRequirement already satisfied: numpy<2,>=1 in /usr/local/lib/python3.10/dist-packages (from langchain) (1.25.2)\n",
            "Requirement already satisfied: pydantic<3,>=1 in /usr/local/lib/python3.10/dist-packages (from langchain) (2.7.1)\n",
            "Requirement already satisfied: requests<3,>=2 in /usr/local/lib/python3.10/dist-packages (from langchain) (2.31.0)\n",
            "Requirement already satisfied: tenacity<9.0.0,>=8.1.0 in /usr/local/lib/python3.10/dist-packages (from langchain) (8.3.0)\n",
            "Requirement already satisfied: google-generativeai<0.6.0,>=0.5.2 in /usr/local/lib/python3.10/dist-packages (from langchain_google_genai) (0.5.4)\n",
            "Requirement already satisfied: aiosignal>=1.1.2 in /usr/local/lib/python3.10/dist-packages (from aiohttp<4.0.0,>=3.8.3->langchain) (1.3.1)\n",
            "Requirement already satisfied: attrs>=17.3.0 in /usr/local/lib/python3.10/dist-packages (from aiohttp<4.0.0,>=3.8.3->langchain) (23.2.0)\n",
            "Requirement already satisfied: frozenlist>=1.1.1 in /usr/local/lib/python3.10/dist-packages (from aiohttp<4.0.0,>=3.8.3->langchain) (1.4.1)\n",
            "Requirement already satisfied: multidict<7.0,>=4.5 in /usr/local/lib/python3.10/dist-packages (from aiohttp<4.0.0,>=3.8.3->langchain) (6.0.5)\n",
            "Requirement already satisfied: yarl<2.0,>=1.0 in /usr/local/lib/python3.10/dist-packages (from aiohttp<4.0.0,>=3.8.3->langchain) (1.9.4)\n",
            "Requirement already satisfied: google-ai-generativelanguage==0.6.4 in /usr/local/lib/python3.10/dist-packages (from google-generativeai<0.6.0,>=0.5.2->langchain_google_genai) (0.6.4)\n",
            "Requirement already satisfied: google-api-core in /usr/local/lib/python3.10/dist-packages (from google-generativeai<0.6.0,>=0.5.2->langchain_google_genai) (2.11.1)\n",
            "Requirement already satisfied: google-api-python-client in /usr/local/lib/python3.10/dist-packages (from google-generativeai<0.6.0,>=0.5.2->langchain_google_genai) (2.84.0)\n",
            "Requirement already satisfied: google-auth>=2.15.0 in /usr/local/lib/python3.10/dist-packages (from google-generativeai<0.6.0,>=0.5.2->langchain_google_genai) (2.27.0)\n",
            "Requirement already satisfied: protobuf in /usr/local/lib/python3.10/dist-packages (from google-generativeai<0.6.0,>=0.5.2->langchain_google_genai) (3.20.3)\n",
            "Requirement already satisfied: tqdm in /usr/local/lib/python3.10/dist-packages (from google-generativeai<0.6.0,>=0.5.2->langchain_google_genai) (4.66.4)\n",
            "Requirement already satisfied: typing-extensions in /usr/local/lib/python3.10/dist-packages (from google-generativeai<0.6.0,>=0.5.2->langchain_google_genai) (4.11.0)\n",
            "Requirement already satisfied: proto-plus<2.0.0dev,>=1.22.3 in /usr/local/lib/python3.10/dist-packages (from google-ai-generativelanguage==0.6.4->google-generativeai<0.6.0,>=0.5.2->langchain_google_genai) (1.23.0)\n",
            "Collecting jsonpatch<2.0,>=1.33 (from langchain-core<0.3.0,>=0.2.0->langchain)\n",
            "  Downloading jsonpatch-1.33-py2.py3-none-any.whl (12 kB)\n",
            "Collecting packaging<24.0,>=23.2 (from langchain-core<0.3.0,>=0.2.0->langchain)\n",
            "  Downloading packaging-23.2-py3-none-any.whl (53 kB)\n",
            "\u001b[2K     \u001b[90m━━━━━━━━━━━━━━━━━━━━━━━━━━━━━━━━━━━━━━━━\u001b[0m \u001b[32m53.0/53.0 kB\u001b[0m \u001b[31m7.3 MB/s\u001b[0m eta \u001b[36m0:00:00\u001b[0m\n",
            "\u001b[?25hCollecting orjson<4.0.0,>=3.9.14 (from langsmith<0.2.0,>=0.1.17->langchain)\n",
            "  Downloading orjson-3.10.3-cp310-cp310-manylinux_2_17_x86_64.manylinux2014_x86_64.whl (142 kB)\n",
            "\u001b[2K     \u001b[90m━━━━━━━━━━━━━━━━━━━━━━━━━━━━━━━━━━━━━━━━\u001b[0m \u001b[32m142.5/142.5 kB\u001b[0m \u001b[31m17.5 MB/s\u001b[0m eta \u001b[36m0:00:00\u001b[0m\n",
            "\u001b[?25hRequirement already satisfied: annotated-types>=0.4.0 in /usr/local/lib/python3.10/dist-packages (from pydantic<3,>=1->langchain) (0.7.0)\n",
            "Requirement already satisfied: pydantic-core==2.18.2 in /usr/local/lib/python3.10/dist-packages (from pydantic<3,>=1->langchain) (2.18.2)\n",
            "Requirement already satisfied: charset-normalizer<4,>=2 in /usr/local/lib/python3.10/dist-packages (from requests<3,>=2->langchain) (3.3.2)\n",
            "Requirement already satisfied: idna<4,>=2.5 in /usr/local/lib/python3.10/dist-packages (from requests<3,>=2->langchain) (3.7)\n",
            "Requirement already satisfied: urllib3<3,>=1.21.1 in /usr/local/lib/python3.10/dist-packages (from requests<3,>=2->langchain) (2.0.7)\n",
            "Requirement already satisfied: certifi>=2017.4.17 in /usr/local/lib/python3.10/dist-packages (from requests<3,>=2->langchain) (2024.2.2)\n",
            "Requirement already satisfied: greenlet!=0.4.17 in /usr/local/lib/python3.10/dist-packages (from SQLAlchemy<3,>=1.4->langchain) (3.0.3)\n",
            "Requirement already satisfied: cachetools<6.0,>=2.0.0 in /usr/local/lib/python3.10/dist-packages (from google-auth>=2.15.0->google-generativeai<0.6.0,>=0.5.2->langchain_google_genai) (5.3.3)\n",
            "Requirement already satisfied: pyasn1-modules>=0.2.1 in /usr/local/lib/python3.10/dist-packages (from google-auth>=2.15.0->google-generativeai<0.6.0,>=0.5.2->langchain_google_genai) (0.4.0)\n",
            "Requirement already satisfied: rsa<5,>=3.1.4 in /usr/local/lib/python3.10/dist-packages (from google-auth>=2.15.0->google-generativeai<0.6.0,>=0.5.2->langchain_google_genai) (4.9)\n",
            "Collecting jsonpointer>=1.9 (from jsonpatch<2.0,>=1.33->langchain-core<0.3.0,>=0.2.0->langchain)\n",
            "  Downloading jsonpointer-2.4-py2.py3-none-any.whl (7.8 kB)\n",
            "Requirement already satisfied: googleapis-common-protos<2.0.dev0,>=1.56.2 in /usr/local/lib/python3.10/dist-packages (from google-api-core->google-generativeai<0.6.0,>=0.5.2->langchain_google_genai) (1.63.0)\n",
            "Requirement already satisfied: httplib2<1dev,>=0.15.0 in /usr/local/lib/python3.10/dist-packages (from google-api-python-client->google-generativeai<0.6.0,>=0.5.2->langchain_google_genai) (0.22.0)\n",
            "Requirement already satisfied: google-auth-httplib2>=0.1.0 in /usr/local/lib/python3.10/dist-packages (from google-api-python-client->google-generativeai<0.6.0,>=0.5.2->langchain_google_genai) (0.1.1)\n",
            "Requirement already satisfied: uritemplate<5,>=3.0.1 in /usr/local/lib/python3.10/dist-packages (from google-api-python-client->google-generativeai<0.6.0,>=0.5.2->langchain_google_genai) (4.1.1)\n",
            "Requirement already satisfied: grpcio<2.0dev,>=1.33.2 in /usr/local/lib/python3.10/dist-packages (from google-api-core->google-generativeai<0.6.0,>=0.5.2->langchain_google_genai) (1.64.0)\n",
            "Requirement already satisfied: grpcio-status<2.0.dev0,>=1.33.2 in /usr/local/lib/python3.10/dist-packages (from google-api-core->google-generativeai<0.6.0,>=0.5.2->langchain_google_genai) (1.48.2)\n",
            "Requirement already satisfied: pyparsing!=3.0.0,!=3.0.1,!=3.0.2,!=3.0.3,<4,>=2.4.2 in /usr/local/lib/python3.10/dist-packages (from httplib2<1dev,>=0.15.0->google-api-python-client->google-generativeai<0.6.0,>=0.5.2->langchain_google_genai) (3.1.2)\n",
            "Requirement already satisfied: pyasn1<0.7.0,>=0.4.6 in /usr/local/lib/python3.10/dist-packages (from pyasn1-modules>=0.2.1->google-auth>=2.15.0->google-generativeai<0.6.0,>=0.5.2->langchain_google_genai) (0.6.0)\n",
            "Installing collected packages: packaging, orjson, jsonpointer, jsonpatch, langsmith, langchain-core, langchain-text-splitters, langchain, langchain_google_genai\n",
            "  Attempting uninstall: packaging\n",
            "    Found existing installation: packaging 24.0\n",
            "    Uninstalling packaging-24.0:\n",
            "      Successfully uninstalled packaging-24.0\n",
            "Successfully installed jsonpatch-1.33 jsonpointer-2.4 langchain-0.2.1 langchain-core-0.2.1 langchain-text-splitters-0.2.0 langchain_google_genai-1.0.5 langsmith-0.1.63 orjson-3.10.3 packaging-23.2\n",
            "\u001b[2K     \u001b[90m━━━━━━━━━━━━━━━━━━━━━━━━━━━━━━━━━━━━━━━━\u001b[0m \u001b[32m84.1/84.1 kB\u001b[0m \u001b[31m2.9 MB/s\u001b[0m eta \u001b[36m0:00:00\u001b[0m\n",
            "\u001b[2K     \u001b[90m━━━━━━━━━━━━━━━━━━━━━━━━━━━━━━━━━━━━━━━━\u001b[0m \u001b[32m81.8/81.8 kB\u001b[0m \u001b[31m4.9 MB/s\u001b[0m eta \u001b[36m0:00:00\u001b[0m\n",
            "\u001b[2K     \u001b[90m━━━━━━━━━━━━━━━━━━━━━━━━━━━━━━━━━━━━━━━━\u001b[0m \u001b[32m1.1/1.1 MB\u001b[0m \u001b[31m10.7 MB/s\u001b[0m eta \u001b[36m0:00:00\u001b[0m\n",
            "\u001b[?25hRequirement already satisfied: langsmith in /usr/local/lib/python3.10/dist-packages (0.1.63)\n",
            "Requirement already satisfied: orjson<4.0.0,>=3.9.14 in /usr/local/lib/python3.10/dist-packages (from langsmith) (3.10.3)\n",
            "Requirement already satisfied: pydantic<3,>=1 in /usr/local/lib/python3.10/dist-packages (from langsmith) (2.7.1)\n",
            "Requirement already satisfied: requests<3,>=2 in /usr/local/lib/python3.10/dist-packages (from langsmith) (2.31.0)\n",
            "Requirement already satisfied: annotated-types>=0.4.0 in /usr/local/lib/python3.10/dist-packages (from pydantic<3,>=1->langsmith) (0.7.0)\n",
            "Requirement already satisfied: pydantic-core==2.18.2 in /usr/local/lib/python3.10/dist-packages (from pydantic<3,>=1->langsmith) (2.18.2)\n",
            "Requirement already satisfied: typing-extensions>=4.6.1 in /usr/local/lib/python3.10/dist-packages (from pydantic<3,>=1->langsmith) (4.11.0)\n",
            "Requirement already satisfied: charset-normalizer<4,>=2 in /usr/local/lib/python3.10/dist-packages (from requests<3,>=2->langsmith) (3.3.2)\n",
            "Requirement already satisfied: idna<4,>=2.5 in /usr/local/lib/python3.10/dist-packages (from requests<3,>=2->langsmith) (3.7)\n",
            "Requirement already satisfied: urllib3<3,>=1.21.1 in /usr/local/lib/python3.10/dist-packages (from requests<3,>=2->langsmith) (2.0.7)\n",
            "Requirement already satisfied: certifi>=2017.4.17 in /usr/local/lib/python3.10/dist-packages (from requests<3,>=2->langsmith) (2024.2.2)\n"
          ]
        }
      ],
      "source": [
        "!pip install openai graphviz\n",
        "!apt-get install graphviz\n",
        "!pip install -q -U google-generativeai\n",
        "!pip install langchain langchain_google_genai\n",
        "!pip install -U --quiet  langgraph langchain-fireworks\n",
        "!pip install -U --quiet tavily-python\n",
        "!pip install -U langsmith"
      ]
    },
    {
      "cell_type": "code",
      "execution_count": 2,
      "metadata": {
        "colab": {
          "base_uri": "https://localhost:8080/"
        },
        "id": "a2Gkw0X0PqQh",
        "outputId": "ebeaaab5-fd01-4c83-fd8d-83dae854b60b"
      },
      "outputs": [
        {
          "name": "stdout",
          "output_type": "stream",
          "text": [
            "Collecting langchain_groq\n",
            "  Downloading langchain_groq-0.1.4-py3-none-any.whl (11 kB)\n",
            "Collecting groq<1,>=0.4.1 (from langchain_groq)\n",
            "  Downloading groq-0.8.0-py3-none-any.whl (105 kB)\n",
            "\u001b[2K     \u001b[90m━━━━━━━━━━━━━━━━━━━━━━━━━━━━━━━━━━━━━━━━\u001b[0m \u001b[32m105.4/105.4 kB\u001b[0m \u001b[31m3.0 MB/s\u001b[0m eta \u001b[36m0:00:00\u001b[0m\n",
            "\u001b[?25hRequirement already satisfied: langchain-core<0.3,>=0.1.45 in /usr/local/lib/python3.10/dist-packages (from langchain_groq) (0.2.1)\n",
            "Requirement already satisfied: anyio<5,>=3.5.0 in /usr/local/lib/python3.10/dist-packages (from groq<1,>=0.4.1->langchain_groq) (3.7.1)\n",
            "Requirement already satisfied: distro<2,>=1.7.0 in /usr/lib/python3/dist-packages (from groq<1,>=0.4.1->langchain_groq) (1.7.0)\n",
            "Requirement already satisfied: httpx<1,>=0.23.0 in /usr/local/lib/python3.10/dist-packages (from groq<1,>=0.4.1->langchain_groq) (0.27.0)\n",
            "Requirement already satisfied: pydantic<3,>=1.9.0 in /usr/local/lib/python3.10/dist-packages (from groq<1,>=0.4.1->langchain_groq) (2.7.1)\n",
            "Requirement already satisfied: sniffio in /usr/local/lib/python3.10/dist-packages (from groq<1,>=0.4.1->langchain_groq) (1.3.1)\n",
            "Requirement already satisfied: typing-extensions<5,>=4.7 in /usr/local/lib/python3.10/dist-packages (from groq<1,>=0.4.1->langchain_groq) (4.11.0)\n",
            "Requirement already satisfied: PyYAML>=5.3 in /usr/local/lib/python3.10/dist-packages (from langchain-core<0.3,>=0.1.45->langchain_groq) (6.0.1)\n",
            "Requirement already satisfied: jsonpatch<2.0,>=1.33 in /usr/local/lib/python3.10/dist-packages (from langchain-core<0.3,>=0.1.45->langchain_groq) (1.33)\n",
            "Requirement already satisfied: langsmith<0.2.0,>=0.1.0 in /usr/local/lib/python3.10/dist-packages (from langchain-core<0.3,>=0.1.45->langchain_groq) (0.1.63)\n",
            "Requirement already satisfied: packaging<24.0,>=23.2 in /usr/local/lib/python3.10/dist-packages (from langchain-core<0.3,>=0.1.45->langchain_groq) (23.2)\n",
            "Requirement already satisfied: tenacity<9.0.0,>=8.1.0 in /usr/local/lib/python3.10/dist-packages (from langchain-core<0.3,>=0.1.45->langchain_groq) (8.3.0)\n",
            "Requirement already satisfied: idna>=2.8 in /usr/local/lib/python3.10/dist-packages (from anyio<5,>=3.5.0->groq<1,>=0.4.1->langchain_groq) (3.7)\n",
            "Requirement already satisfied: exceptiongroup in /usr/local/lib/python3.10/dist-packages (from anyio<5,>=3.5.0->groq<1,>=0.4.1->langchain_groq) (1.2.1)\n",
            "Requirement already satisfied: certifi in /usr/local/lib/python3.10/dist-packages (from httpx<1,>=0.23.0->groq<1,>=0.4.1->langchain_groq) (2024.2.2)\n",
            "Requirement already satisfied: httpcore==1.* in /usr/local/lib/python3.10/dist-packages (from httpx<1,>=0.23.0->groq<1,>=0.4.1->langchain_groq) (1.0.5)\n",
            "Requirement already satisfied: h11<0.15,>=0.13 in /usr/local/lib/python3.10/dist-packages (from httpcore==1.*->httpx<1,>=0.23.0->groq<1,>=0.4.1->langchain_groq) (0.14.0)\n",
            "Requirement already satisfied: jsonpointer>=1.9 in /usr/local/lib/python3.10/dist-packages (from jsonpatch<2.0,>=1.33->langchain-core<0.3,>=0.1.45->langchain_groq) (2.4)\n",
            "Requirement already satisfied: orjson<4.0.0,>=3.9.14 in /usr/local/lib/python3.10/dist-packages (from langsmith<0.2.0,>=0.1.0->langchain-core<0.3,>=0.1.45->langchain_groq) (3.10.3)\n",
            "Requirement already satisfied: requests<3,>=2 in /usr/local/lib/python3.10/dist-packages (from langsmith<0.2.0,>=0.1.0->langchain-core<0.3,>=0.1.45->langchain_groq) (2.31.0)\n",
            "Requirement already satisfied: annotated-types>=0.4.0 in /usr/local/lib/python3.10/dist-packages (from pydantic<3,>=1.9.0->groq<1,>=0.4.1->langchain_groq) (0.7.0)\n",
            "Requirement already satisfied: pydantic-core==2.18.2 in /usr/local/lib/python3.10/dist-packages (from pydantic<3,>=1.9.0->groq<1,>=0.4.1->langchain_groq) (2.18.2)\n",
            "Requirement already satisfied: charset-normalizer<4,>=2 in /usr/local/lib/python3.10/dist-packages (from requests<3,>=2->langsmith<0.2.0,>=0.1.0->langchain-core<0.3,>=0.1.45->langchain_groq) (3.3.2)\n",
            "Requirement already satisfied: urllib3<3,>=1.21.1 in /usr/local/lib/python3.10/dist-packages (from requests<3,>=2->langsmith<0.2.0,>=0.1.0->langchain-core<0.3,>=0.1.45->langchain_groq) (2.0.7)\n",
            "Installing collected packages: groq, langchain_groq\n",
            "Successfully installed groq-0.8.0 langchain_groq-0.1.4\n"
          ]
        }
      ],
      "source": [
        "!pip install langchain_groq"
      ]
    },
    {
      "cell_type": "code",
      "execution_count": null,
      "metadata": {
        "colab": {
          "base_uri": "https://localhost:8080/"
        },
        "id": "CpkpRK-M_55-",
        "outputId": "0adf657d-9f60-47c1-9b38-7c1fd1c2aa81"
      },
      "outputs": [
        {
          "name": "stdout",
          "output_type": "stream",
          "text": [
            "Requirement already satisfied: gdown in /usr/local/lib/python3.10/dist-packages (5.1.0)\n",
            "Requirement already satisfied: beautifulsoup4 in /usr/local/lib/python3.10/dist-packages (from gdown) (4.12.3)\n",
            "Requirement already satisfied: filelock in /usr/local/lib/python3.10/dist-packages (from gdown) (3.14.0)\n",
            "Requirement already satisfied: requests[socks] in /usr/local/lib/python3.10/dist-packages (from gdown) (2.31.0)\n",
            "Requirement already satisfied: tqdm in /usr/local/lib/python3.10/dist-packages (from gdown) (4.66.4)\n",
            "Requirement already satisfied: soupsieve>1.2 in /usr/local/lib/python3.10/dist-packages (from beautifulsoup4->gdown) (2.5)\n",
            "Requirement already satisfied: charset-normalizer<4,>=2 in /usr/local/lib/python3.10/dist-packages (from requests[socks]->gdown) (3.3.2)\n",
            "Requirement already satisfied: idna<4,>=2.5 in /usr/local/lib/python3.10/dist-packages (from requests[socks]->gdown) (3.7)\n",
            "Requirement already satisfied: urllib3<3,>=1.21.1 in /usr/local/lib/python3.10/dist-packages (from requests[socks]->gdown) (2.0.7)\n",
            "Requirement already satisfied: certifi>=2017.4.17 in /usr/local/lib/python3.10/dist-packages (from requests[socks]->gdown) (2024.2.2)\n",
            "Requirement already satisfied: PySocks!=1.5.7,>=1.5.6 in /usr/local/lib/python3.10/dist-packages (from requests[socks]->gdown) (1.7.1)\n"
          ]
        }
      ],
      "source": [
        "!pip install gdown"
      ]
    },
    {
      "cell_type": "code",
      "execution_count": null,
      "metadata": {
        "colab": {
          "base_uri": "https://localhost:8080/"
        },
        "id": "fb9XCRN_AKzo",
        "outputId": "ca81f88b-0e55-4045-96a4-50e6855bf334"
      },
      "outputs": [
        {
          "name": "stdout",
          "output_type": "stream",
          "text": [
            "Downloading...\n",
            "From (original): https://drive.google.com/uc?id=1UEhPj1qsgWTFB2R7tPtQeX_xcQ634yAk\n",
            "From (redirected): https://drive.google.com/uc?id=1UEhPj1qsgWTFB2R7tPtQeX_xcQ634yAk&confirm=t&uuid=297bc6f1-82f2-459c-8d12-eced3278cfe8\n",
            "To: /content/ABCD.zip\n",
            "100% 383M/383M [00:07<00:00, 49.4MB/s]\n"
          ]
        }
      ],
      "source": [
        "!gdown --fuzzy https://drive.google.com/file/d/1UEhPj1qsgWTFB2R7tPtQeX_xcQ634yAk/view?usp=drive_link"
      ]
    },
    {
      "cell_type": "code",
      "execution_count": null,
      "metadata": {
        "colab": {
          "base_uri": "https://localhost:8080/"
        },
        "id": "rM6kwlp5_7_1",
        "outputId": "a407e379-ade5-4cc6-b44d-bfc6a7cb6fb5"
      },
      "outputs": [
        {
          "name": "stdout",
          "output_type": "stream",
          "text": [
            "Archive:  ABCD.zip\n",
            "  inflating: testing.csv             \n",
            "  inflating: training.csv            \n"
          ]
        }
      ],
      "source": [
        "!unzip ABCD.zip"
      ]
    },
    {
      "cell_type": "code",
      "execution_count": 3,
      "metadata": {
        "id": "rjLxR4WA4WYF"
      },
      "outputs": [],
      "source": [
        "import pandas as pd\n",
        "import matplotlib.pyplot as plt\n",
        "import seaborn as sns\n",
        "import polars as pl\n",
        "import io\n",
        "import sys\n",
        "import os\n",
        "from google.colab import userdata\n",
        "from langchain_groq import ChatGroq\n",
        "from google.colab import userdata\n",
        "import getpass\n",
        "from langchain_core.messages import AIMessage, BaseMessage, HumanMessage\n",
        "from langchain_core.prompts import ChatPromptTemplate, MessagesPlaceholder\n",
        "from langchain_fireworks import ChatFireworks"
      ]
    },
    {
      "cell_type": "code",
      "execution_count": null,
      "metadata": {
        "id": "e2omcqWiPviW"
      },
      "outputs": [],
      "source": [
        "df_column_pair_detail =\"\"\"\n",
        " no. ; Variable ; Description\n",
        "1 ; actualdpd_943P ; Days Past Due (DPD) of previous contract (actual).\n",
        "2 ; actualdpdtolerance_344P ; DPD of client with tolerance.\n",
        "3 ; addres_district_368M ; District of the person's address.\n",
        "4 ; addres_role_871L ; Role of person's address.\n",
        "5 ; addres_zip_823M ; Zip code of the address.\n",
        "6 ; amount_1115A ; Credit amount of the active contract provided by the credit bureau.\n",
        "7 ; amount_416A ; Deposit amount.\n",
        "8 ; amount_4527230A ; Tax deductions amount tracked by the government registry.\n",
        "9 ; amount_4917619A ; Tax deductions amount tracked by the government registry.\n",
        "10 ; amtdebitincoming_4809443A ; Incoming debit card transactions amount.\n",
        "11 ; amtdebitoutgoing_4809440A ; Outgoing debit card transactions amount.\n",
        "12 ; amtdepositbalance_4809441A ; Deposit balance of client.\n",
        "13 ; amtdepositincoming_4809444A ; Amount of incoming deposits to client's account.\n",
        "14 ; amtdepositoutgoing_4809442A ; Amount of outgoing deposits from client's account.\n",
        "15 ; amtinstpaidbefduel24m_4187115A ; Number of instalments paid before due date in the last 24 months.\n",
        "16 ; annualeffectiverate_199L ; Interest rate of the closed contracts.\n",
        "17 ; annualeffectiverate_63L ; Interest rate for the active contracts.\n",
        "18 ; annuity_780A ; Monthly annuity amount.\n",
        "19 ; annuity_853A ; Monthly annuity for previous applications.\n",
        "20 ; annuitynextmonth_57A ; Next month's amount of annuity.\n",
        "21 ; applicationcnt_361L ; Number of applications associated with the same email address as the client.\n",
        "22 ; applications30d_658L ; Number of applications made by the client in the last 30 days.\n",
        "23 ; applicationscnt_1086L ; Number of applications associated with the same phone number.\n",
        "24 ; applicationscnt_464L ; Number of applications made in the last 30 days by other clients with the same employer as the applicant.\n",
        "25 ; applicationscnt_629L ; Number of applications with the same employer in the last 7 days.\n",
        "26 ; applicationscnt_867L ; Number of applications associated with the same mobile phone.\n",
        "27 ; approvaldate_319D ; Approval Date of Previous Application\n",
        "28 ; assignmentdate_238D ; Tax authority data - date of assignment.\n",
        "29 ; assignmentdate_4527235D ; Tax authority data - Date of assignment.\n",
        "30 ; assignmentdate_4955616D ; Tax authority assignment date.\n",
        "31 ; avgdbddpdlast24m_3658932P ; Average days past or before due of payment during the last 24 months.\n",
        "32 ; avgdbddpdlast3m_4187120P ; Average days past or before due of payment during the last 3 months.\n",
        "33 ; avgdbdtollast24m_4525197P ; Average days of payment before due date within the last 24 months (with tolerance).\n",
        "34 ; avgdpdtolclosure24_3658938P ; Average DPD (days past due) with tolerance within the past 24 months from the maximum closure date, assuming that the contract is finished. If the contract is ongoing, the calculation is based on the current date.\n",
        "35 ; avginstallast24m_3658937A ; Average instalments paid by the client over the past 24 months.\n",
        "36 ; avglnamtstart24m_4525187A ; Average loan amount in the last 24 months.\n",
        "37 ; avgmaxdpdlast9m_3716943P ; Average Days Past Due (DPD) of the client in last 9 months.\n",
        "38 ; avgoutstandbalancel6m_4187114A ; Average outstanding balance of applicant for the last 6 months.\n",
        "39 ; avgpmtlast12m_4525200A ; Average of payments made by the client in the last 12 months.\n",
        "40 ; bankacctype_710L ; Type of applicant's bank account.\n",
        "41 ; birth_259D ; Date of birth of the person.\n",
        "42 ; birthdate_574D ; Client's date of birth (credit bureau data).\n",
        "43 ; birthdate_87D ; Birth date of the person.\n",
        "44 ; byoccupationinc_3656910L ; Applicant's income from previous applications.\n",
        "45 ; cacccardblochreas_147M ; Card blocking reason.\n",
        "46 ; cancelreason_3545846M ; Application cancellation reason.\n",
        "47 ; cardtype_51L ; Type of credit card.\n",
        "48 ; childnum_185L ; Number of children of the applicant.\n",
        "49 ; childnum_21L ; Number of children in the previous application.\n",
        "50 ; classificationofcontr_1114M ; Classificiation of the active contract.\n",
        "51 ; classificationofcontr_13M ; Classificiation of the active contract.\n",
        "52 ; classificationofcontr_400M ; Classificiation of the closed contract.\n",
        "53 ; clientscnt_100L ; Number of applications with matching employer's phone and client's.\n",
        "54 ; clientscnt_1022L ; Number of clients sharing the same mobile phone.\n",
        "55 ; clientscnt_1071L ; Number of applications where the alternative phone number matches that of the client.\n",
        "56 ; clientscnt_1130L ; Number of applications where client's phone number matches the alternative phone contact.\n",
        "57 ; clientscnt_136L ; Number of applications associated with same email address as client's email.\n",
        "58 ; clientscnt_157L ; Number of clients whose employer has the same phone number as the client.\n",
        "59 ; clientscnt_257L ; Number of clients that share an alternative phone number with the applicant.\n",
        "60 ; clientscnt_304L ; Number of clients with the same phone number.\n",
        "61 ; clientscnt_360L ; Number of clients that have the same alternative phone number and employer's phone number.\n",
        "62 ; clientscnt_493L ; Number of clients with matching phone numbers for both the employer and the client.\n",
        "63 ; clientscnt_533L ; Number of clients with same client's and alternative's phone number\n",
        "64 ; clientscnt_887L ; Number of clients sharing the same employer's phone number.\n",
        "65 ; clientscnt_946L ; Number of clients with matching mobile and employer's number.\n",
        "66 ; clientscnt12m_3712952L ; Number of clients that have used the same mobile phone as the applicant in the past 12 months.\n",
        "67 ; clientscnt3m_3712950L ; Number of clients who have the same mobile phone number in the last 3 months.\n",
        "68 ; clientscnt6m_3712949L ; Total number of clients who have used the same mobile number in the last 6 months.\n",
        "69 ; cntincpaycont9m_3716944L ; Number of incoming payments in the past 9 months.\n",
        "70 ; cntpmts24_3658933L ; Number of months with any incoming payment in last 24 months.\n",
        "71 ; collater_typofvalofguarant_298M ; Collateral valuation type (active contract).\n",
        "72 ; collater_typofvalofguarant_407M ; Collateral valuation type (closed contract).\n",
        "73 ; collater_valueofguarantee_1124L ; Value of collateral for active contract.\n",
        "74 ; collater_valueofguarantee_876L ; Value of collateral for closed contract.\n",
        "75 ; collaterals_typeofguarante_359M ; Type of collateral that was used as a guarantee for a closed contract.\n",
        "76 ; collaterals_typeofguarante_669M ; Collateral type for the active contract.\n",
        "77 ; commnoinclast6m_3546845L ; Number of communications indicating low income in the last six months.\n",
        "78 ; contaddr_district_15M ; Zip code of a contact person's address.\n",
        "79 ; contaddr_matchlist_1032L ; Indicates whether the contact address is found in a code list.\n",
        "80 ; contaddr_smempladdr_334L ; Indicates whether the contact address is the same as the employment address.\n",
        "81 ; contaddr_zipcode_807M ; Zip code of contact address.\n",
        "82 ; contractdate_551D ; Contract date of the active contract\n",
        "83 ; contractenddate_991D ; End date of deposit contract.\n",
        "84 ; contractmaturitydate_151D ; End date of active contract.\n",
        "85 ; contractssum_5085716L ; Total sum of values of contracts retrieved from external credit bureau.\n",
        "86 ; contractst_516M ; Contract status.\n",
        "87 ; contractst_545M ; Contract status.\n",
        "88 ; contractst_964M ; Contract status of terminated credit contract.\n",
        "89 ; contractsum_5085717L ; Sum of other contract values.\n",
        "90 ; contracttype_653M ; Contract Type\n",
        "91 ; conts_role_79M ; Type of contact role of a person.\n",
        "92 ; conts_type_509L ; Person contact type in previous application.\n",
        "93 ; creationdate_885D ; Date when previous application was created.\n",
        "94 ; credacc_actualbalance_314A ; Actual balance on credit account.\n",
        "95 ; credacc_cards_status_52L ; Card status of the previous credit account.\n",
        "96 ; credacc_credlmt_575A ; Credit card credit limit provided for previous applications.\n",
        "97 ; credacc_maxhisbal_375A ; Maximal historical balance of previous credit account\n",
        "98 ; credacc_minhisbal_90A ; Minimum historical balance of previous credit accounts.\n",
        "99 ; credacc_status_367L ; Account status of previous credit applications.\n",
        "100 ; credacc_transactions_402L ; Number of transactions made with the previous credit account of the applicant.\n",
        "101 ; credamount_590A ; Loan amount or card limit of previous applications.\n",
        "102 ; credamount_770A ; Loan amount or credit card limit.\n",
        "103 ; credlmt_1052A ; Credit limit of an active loan.\n",
        "104 ; credlmt_228A ; Credit limit for closed loans.\n",
        "105 ; credlmt_230A ; Credit limit of the closed credit contracts from credit bureau.\n",
        "106 ; credlmt_3940954A ; Credit limit for active loan.\n",
        "107 ; credlmt_935A ; Credit limit for active loan.\n",
        "108 ; credor_3940957M ; Creditor's name\n",
        "109 ; credquantity_1099L ; Number of credits in credit bureau\n",
        "110 ; credquantity_984L ; Number of closed credits in credit bureau.\n",
        "111 ; credtype_322L ; Type of credit.\n",
        "112 ; credtype_587L ; Credit type of previous application.\n",
        "113 ; currdebt_22A ; Current debt amount of the client.\n",
        "114 ; currdebt_94A ; Previous application's current debt.\n",
        "115 ; currdebtcredtyperange_828A ; Current amount of debt of the applicant.\n",
        "116 ; dateactivated_425D ; Contract activation date of the applicant's previous application.\n",
        "117 ; datefirstoffer_1144D ; Date of first customer relationship management (CRM) offer.\n",
        "118 ; datelastinstal40dpd_247D ; Date of last instalment that was more than 40 days past due (DPD).\n",
        "119 ; datelastunpaid_3546854D ; Date of the last unpaid instalment.\n",
        "120 ; dateofbirth_337D ; Client's date of birth.\n",
        "121 ; dateofbirth_342D ; Client's date of birth.\n",
        "122 ; dateofcredend_289D ; End date of an active credit contract.\n",
        "123 ; dateofcredend_353D ; End date of a closed credit contract.\n",
        "124 ; dateofcredstart_181D ; Date when the credit contract was closed.\n",
        "125 ; dateofcredstart_739D ; Start date of a closed credit contract.\n",
        "126 ; dateofrealrepmt_138D ; Date of credit's closure (contract termination date).\n",
        "127 ; days120_123L ; Number of credit bureau queries for the last 120 days.\n",
        "128 ; days180_256L ; Number of credit bureau queries for last 180 days.\n",
        "129 ; days30_165L ; Number of credit bureau queries for the last 30 days.\n",
        "130 ; days360_512L ; Number of Credit Bureau queries for last 360 days.\n",
        "131 ; days90_310L ; Number of credit bureau queries for the last 90 days.\n",
        "132 ; daysoverduetolerancedd_3976961L ; Number of days that past after the due date (with tolerance).\n",
        "133 ; debtoutstand_525A ; Outstanding amount of existing contract.\n",
        "134 ; debtoverdue_47A ; Amount that is currently past due on a client's existing credit contract.\n",
        "135 ; debtpastduevalue_732A ; Amount of unpaid debt for existing contracts.\n",
        "136 ; debtvalue_227A ; Outstanding amount for existing debt contracts.\n",
        "137 ; deductiondate_4917603D ; Tax deduction date.\n",
        "138 ; deferredmnthsnum_166L ; Number of deferred months.\n",
        "139 ; description_351M ; Categorization of clients by credit bureau.\n",
        "140 ; description_5085714M ; Categorization of clients by credit bureau.\n",
        "141 ; disbursedcredamount_1113A ; Disbursed credit amount after consolidation.\n",
        "142 ; disbursementtype_67L ; Type of disbursement.\n",
        "143 ; district_544M ; District of the address used in the previous loan application.\n",
        "144 ; downpmt_116A ; Amount of downpayment.\n",
        "145 ; downpmt_134A ; Previous application downpayment amount.\n",
        "146 ; dpd_550P ; The number of days past due for active loans where a guarantee has been provided.\n",
        "147 ; dpd_733P ; Days past due (DPD) for guaranteed loans that were terminated according to credit bureau data.\n",
        "148 ; dpdmax_139P ; Maximal days past due for active contract.\n",
        "149 ; dpdmax_757P ; Maximum days past due for a closed contract.\n",
        "150 ; dpdmax_851P ; Maximal past due days for active contracts in the credit bureau.\n",
        "151 ; dpdmaxdatemonth_442T ; Max DPD occurrence month for terminated contracts from credit bureau data.\n",
        "152 ; dpdmaxdatemonth_804T ; Month when the maximum Day Past Due (DPD) occurred for active contracts on credit bureau's records.\n",
        "153 ; dpdmaxdatemonth_89T ; Month when maximum days past due occurred on the active contract with the credit bureau.\n",
        "154 ; dpdmaxdateyear_596T ; Year when maximum Days Past Due (DPD) occurred for the active contract.\n",
        "155 ; dpdmaxdateyear_742T ; Year of the maximum Days Past Due (DPD) on an active credit contract in the credit bureau.\n",
        "156 ; dpdmaxdateyear_896T ; Year of maximum Days Past Due of closed contract obtained from Credit Bureau.\n",
        "157 ; dtlastpmt_581D ; Date of last payment made by the applicant.\n",
        "158 ; dtlastpmtallstes_3545839D ; Date of the applicant's last payment.\n",
        "159 ; dtlastpmtallstes_4499206D ; Date of last payment made by the applicant.\n",
        "160 ; education_1103M ; Level of education of the client provided by external source.\n",
        "161 ; education_1138M ; Applicant's education level from their previous application.\n",
        "162 ; education_88M ; Education level of the client.\n",
        "163 ; education_927M ; Education level of the person.\n",
        "164 ; eir_270L ; Interest rate.\n",
        "165 ; empl_employedfrom_271D ; Start date of employment.\n",
        "166 ; empl_employedtotal_800L ; Employment length of a person.\n",
        "167 ; empl_industry_691L ; Employment Industry of the person.\n",
        "168 ; empladdr_district_926M ; District where the employer's address is located.\n",
        "169 ; empladdr_zipcode_114M ; Zipcode of employer's address.\n",
        "170 ; employedfrom_700D ; Employment start date from the previous application.\n",
        "171 ; employername_160M ; Employer's name.\n",
        "172 ; empls_economicalst_849M ; The economical status of the person (num_group1 - person, num_group2 - employment).\n",
        "173 ; empls_employedfrom_796D ; Start of employment (num_group1 - person, num_group2 - employment).\n",
        "174 ; empls_employer_name_740M ; Employer's name (num_group1 - person, num_group2 - employment).\n",
        "175 ; equalitydataagreement_891L ; Flag indicating sudden changes in client's social-demographic data (e.g. education, family status, housing type).\n",
        "176 ; equalityempfrom_62L ; Flag indicating a sudden change in the client's length of employment.\n",
        "177 ; familystate_447L ; Family state of the person.\n",
        "178 ; familystate_726L ; Family State in previous application of applicant.\n",
        "179 ; financialinstitution_382M ; Name of financial institution that is linked to a closed contract.\n",
        "180 ; financialinstitution_591M ; Financial institution name of the active contract.\n",
        "181 ; firstclxcampaign_1125D ; Date of the client's first campaign.\n",
        "182 ; firstdatedue_489D ; Date of the first due date.\n",
        "183 ; firstnonzeroinstldate_307D ; Date of first instalment in the previous application.\n",
        "184 ; firstquarter_103L ; Number of results obtained from credit bureau in the first quarter.\n",
        "185 ; for3years_128L ; Number of rejected applications in the past 3 years.\n",
        "186 ; for3years_504L ; Client's credit history data over the last three years.\n",
        "187 ; for3years_584L ; Number of cancellations in the last 3 years.\n",
        "188 ; formonth_118L ; Number of rejections in a month.\n",
        "189 ; formonth_206L ; Number of cancelations in the previous month.\n",
        "190 ; formonth_535L ; Credit history for the last month.\n",
        "191 ; forquarter_1017L ; Number of cancellations recorded in the credit bureau in the last quarter.\n",
        "192 ; forquarter_462L ; Number of credit applications that were rejected in the last quarter.\n",
        "193 ; forquarter_634L ; Credit history for the last quarter.\n",
        "194 ; fortoday_1092L ; Client's credit history for today.\n",
        "195 ; forweek_1077L ; Number of cancelations in the last week.\n",
        "196 ; forweek_528L ; Credit history for the last week.\n",
        "197 ; forweek_601L ; Number of rejected applications in the last week.\n",
        "198 ; foryear_618L ; Number of application rejections in the previous year.\n",
        "199 ; foryear_818L ; Number of cancelations that occurred in last year.\n",
        "200 ; foryear_850L ; Credit history for the last year.\n",
        "201 ; fourthquarter_440L ; Number of results in fourth quarter.\n",
        "202 ; gender_992L ; Gender of a person.\n",
        "203 ; homephncnt_628L ; Number of distinct home phones on client's application.\n",
        "204 ; housetype_905L ; House type of the person.\n",
        "205 ; housingtype_772L ; Type of housing of the person.\n",
        "206 ; incometype_1044T ; Type of income of the person\n",
        "207 ; inittransactionamount_650A ; Initial transaction amount of the credit application.\n",
        "208 ; inittransactioncode_186L ; Transaction type of the initial credit transaction.\n",
        "209 ; inittransactioncode_279L ; Type of the initial transaction made in the previous application of the client.\n",
        "210 ; installmentamount_644A ; Instalment amount of a closed and secured credit contract.\n",
        "211 ; installmentamount_833A ; Instalment amount for a secured and active contract in credit bureau.\n",
        "212 ; instlamount_768A ; Instalment amount for the active contract in credit bureau.\n",
        "213 ; instlamount_852A ; Instalment amount for closed contract.\n",
        "214 ; instlamount_892A ; Instalment amount for active credit contract.\n",
        "215 ; interesteffectiverate_369L ; Interest rate on active contract.\n",
        "216 ; interestrate_311L ; The interest rate of the active credit contract.\n",
        "217 ; interestrate_508L ; Interest rate for a closed contract in the credit bureau.\n",
        "218 ; interestrategrace_34L ; Interest rate during the grace period.\n",
        "219 ; interestrateyearly_538L ; Annual interest rate for existing contract obtained from credit bureau.\n",
        "220 ; isbidproduct_1095L ; Flag indicating if the product is a cross-sell.\n",
        "221 ; isbidproduct_390L ; Flag for determining if the product is a cross-sell in previous applications.\n",
        "222 ; isbidproductrequest_292L ; Flag indicating if the product is a cross-sell.\n",
        "223 ; isdebitcard_527L ; Previous application flag indicating if product being applied for is a debit card.\n",
        "224 ; isdebitcard_729L ; Flag indicating if the product is a debit card.\n",
        "225 ; isreference_387L ; Flag indicating whether the person is a reference contact.\n",
        "226 ; language1_981M ; The primary language of the person.\n",
        "227 ; last180dayaveragebalance_704A ; Average balance on debit card in the last 180 days.\n",
        "228 ; last180dayturnover_1134A ; Debit card's turnover within the last 180 days.\n",
        "229 ; last30dayturnover_651A ; Debit card turnover for the last 30 days.\n",
        "230 ; lastactivateddate_801D ; Contract activation date for previous applications.\n",
        "231 ; lastapplicationdate_877D ; Date of previous customer's application.\n",
        "232 ; lastapprcommoditycat_1041M ; Commodity category of the last loan applications made by the applicant.\n",
        "233 ; lastapprcommoditytypec_5251766M ; Commodity type of the last application.\n",
        "234 ; lastapprcredamount_781A ; Credit amount from the client's last application.\n",
        "235 ; lastapprdate_640D ; Date of approval on client's most recent previous application.\n",
        "236 ; lastcancelreason_561M ; Cancellation reason of the last application.\n",
        "237 ; lastdelinqdate_224D ; Date of the last delinquency occurrence.\n",
        "238 ; lastdependentsnum_448L ; Number of dependents in the client's last loan application.\n",
        "239 ; lastotherinc_902A ; Amount of other income reported by the client in their last application.\n",
        "240 ; lastotherlnsexpense_631A ; Monthly expenses on other loans from the last application.\n",
        "241 ; lastrejectcommoditycat_161M ; Category of commodity in the applicant's last rejected application.\n",
        "242 ; lastrejectcommodtypec_5251769M ; Commodity type of the last rejected application.\n",
        "243 ; lastrejectcredamount_222A ; Credit amount on last rejected application.\n",
        "244 ; lastrejectdate_50D ; Date of most recent rejected application by the applicant.\n",
        "245 ; lastrejectreason_759M ; Reason for rejection on the most recent rejected application.\n",
        "246 ; lastrejectreasonclient_4145040M ; Reason for the client's last loan rejection.\n",
        "247 ; lastrepayingdate_696D ; Date of the last payment made by the applicant.\n",
        "248 ; lastst_736L ; Status of the client's previous credit application.\n",
        "249 ; lastupdate_1112D ; Date of last update for an active contract from credit bureau.\n",
        "250 ; lastupdate_260D ; Last update date for the active contracts.\n",
        "251 ; lastupdate_388D ; Date of last update for a closed contract in the credit bureau.\n",
        "252 ; maininc_215A ; Client's primary income amount.\n",
        "253 ; mainoccupationinc_384A ; Amount of the main income of the client.\n",
        "254 ; mainoccupationinc_437A ; Client's main income amount in their previous application.\n",
        "255 ; maritalst_385M ; Marital status of the client.\n",
        "256 ; maritalst_703L ; Marital status of the client.\n",
        "257 ; maritalst_893M ; Marital status of the client\n",
        "258 ; mastercontrelectronic_519L ; Flag indicating the existence of the master contract for the client.\n",
        "259 ; mastercontrexist_109L ; Flag indicating whether or not the applicant has an existing master contract.\n",
        "260 ; maxannuity_159A ; Maximum annuity previously obtained by client.\n",
        "261 ; maxannuity_4075009A ; Maximal annuity offered to the client in the current application.\n",
        "262 ; maxdbddpdlast1m_3658939P ; Maximum number of days past due in the last month. A negative value indicates the number of days before the due date.\n",
        "263 ; maxdbddpdtollast12m_3658940P ; Maximum number of days past due in last 12 months. A negative value implies days before due date.\n",
        "264 ; maxdbddpdtollast6m_4187119P ; Maximum number of days past due in last 6 months. This predictor takes the value as a negative number when it represents days before due date.\n",
        "265 ; maxdebt4_972A ; Maximal principal debt of the client in the history older than 4 months.\n",
        "266 ; maxdebtpduevalodued_3940955A ; Days past due at the time of the maximum debt.\n",
        "267 ; maxdpdfrom6mto36m_3546853P ; Maximum Days Past Due (DPD) in the period ranging from 6 to 36 months.\n",
        "268 ; maxdpdinstldate_3546855D ; Date of instalment on which client was most days past due.\n",
        "269 ; maxdpdinstlnum_3546846P ; Instalment number of which client was most days past due.\n",
        "270 ; maxdpdlast12m_727P ; Maximum days past due in the past 12 months.\n",
        "271 ; maxdpdlast24m_143P ; Maximal days past due in the last 24 months.\n",
        "272 ; maxdpdlast3m_392P ; Maximum number of days past due in last 3 months.\n",
        "273 ; maxdpdlast6m_474P ; Maximum days past due in the last 6 months.\n",
        "274 ; maxdpdlast9m_1059P ; Maximum days past due in last 9 months.\n",
        "275 ; maxdpdtolerance_374P ; Maximum number of days past due (with tolerance).\n",
        "276 ; maxdpdtolerance_577P ; Maximum DPD with tolerance (on previous application/s).\n",
        "277 ; maxinstallast24m_3658928A ; Maximum instalment in the last 24 months\n",
        "278 ; maxlnamtstart6m_4525199A ; Maximum loan amount started in the last 6 months.\n",
        "279 ; maxoutstandbalancel12m_4187113A ; Maximum outstanding balance in the last 12 months.\n",
        "280 ; maxpmtlast3m_4525190A ; Maximum payment made by the client in the last 3 months.\n",
        "281 ; mindbddpdlast24m_3658935P ; Minimum days past due (or days before due) in last 24 months.\n",
        "282 ; mindbdtollast24m_4525191P ; Minimum days before due in last 24 months.\n",
        "283 ; mobilephncnt_593L ; Number of persons with the same mobile phone number.\n",
        "284 ; monthlyinstlamount_332A ; Monthly instalment amount for active contract.\n",
        "285 ; monthlyinstlamount_674A ; Monthly amount of instalment payment on a closed contract.\n",
        "286 ; monthsannuity_845L ; Monthly annuity amount for the applicant.\n",
        "287 ; name_4527232M ; Name of employer.\n",
        "288 ; name_4917606M ; Name of employer.\n",
        "289 ; nominalrate_281L ; Interest rate of the active contract.\n",
        "290 ; nominalrate_498L ; Interest rate for closed contract.\n",
        "291 ; numactivecreds_622L ; Number of active credits.\n",
        "292 ; numactivecredschannel_414L ; Number of active credits.\n",
        "293 ; numactiverelcontr_750L ; Number of active revolving credits.\n",
        "294 ; numberofcontrsvalue_258L ; Number of active contracts in credit bureau.\n",
        "295 ; numberofcontrsvalue_358L ; Number of closed credit contracts.\n",
        "296 ; numberofinstls_229L ; Number of instalments on closed contract.\n",
        "297 ; numberofinstls_320L ; Number of instalments of the active contract.\n",
        "298 ; numberofinstls_810L ; Number of instalments for the active contract.\n",
        "299 ; numberofoutstandinstls_520L ; Number of outstanding instalment for closed contract.\n",
        "300 ; numberofoutstandinstls_59L ; Number of outstanding instalments for the active contracts.\n",
        "\"\"\""
      ]
    },
    {
      "cell_type": "code",
      "execution_count": null,
      "metadata": {
        "id": "sPrX4wVa5DPx"
      },
      "outputs": [],
      "source": [
        "def _set_if_undefined(var: str) -> None:\n",
        "    if os.environ.get(var):\n",
        "        return\n",
        "    os.environ[var] = getpass.getpass(var)\n",
        "\n",
        "#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\n",
        "#RJVYLPE5QBFXuJG9AY4VH00HbnTotbqi4U6ayBlAOzgbwies\n",
        "# Optional: Configure tracing to visualize and debug the agent\n",
        "_set_if_undefined(\"LANGCHAIN_API_KEY\")\n",
        "os.environ[\"LANGCHAIN_TRACING_V2\"] = \"true\"\n",
        "os.environ[\"LANGCHAIN_PROJECT\"] = \"Reflection\"\n",
        "\n",
        "_set_if_undefined(\"FIREWORKS_API_KEY\")\n",
        "\n",
        "os.environ['GOOGLE_API_KEY'] = userdata.get('GOOGLE_API_KEY')"
      ]
    },
    {
      "cell_type": "code",
      "execution_count": null,
      "metadata": {
        "id": "kzgNctjs4XdX"
      },
      "outputs": [],
      "source": [
        "# def get_response(model, prompt):\n",
        "#   response = model.generate_content(prompt)\n",
        "#   return response.text\n",
        "def get_response(model, prompt, model_name = 'gemini'):\n",
        "  if model_name ==  'gemini':\n",
        "    response = model.generate_content(prompt)\n",
        "    response = response.text\n",
        "  elif model_name ==  'llama':\n",
        "    response = model.invoke(f\"{prompt}\")\n",
        "  return response"
      ]
    },
    {
      "cell_type": "code",
      "execution_count": null,
      "metadata": {
        "id": "I0GJ_yxW-rbv"
      },
      "outputs": [],
      "source": [
        "import google.generativeai as genai\n",
        "\n",
        "genai.configure(api_key=os.environ[\"GOOGLE_API_KEY\"])\n",
        "gemini = genai.GenerativeModel('gemini-pro')\n",
        "\n",
        "groq_api = userdata.get('GROQ_API')\n",
        "llama = ChatGroq(groq_api_key = groq_api, model=\"llama3-70b-8192\")\n",
        "\n",
        "mixtral = ChatFireworks(model=\"accounts/fireworks/models/mixtral-8x7b-instruct\", max_tokens=max_tokens)"
      ]
    },
    {
      "cell_type": "code",
      "execution_count": null,
      "metadata": {
        "id": "5YjdiL8vucNI"
      },
      "outputs": [],
      "source": [
        "def code_gen_agent(prompt):\n",
        "  inspection_prompt = f\"\"\"\n",
        "  You are an AI assistant specialized in data science, tasked with creating high-quality, language-agnostic code snippets based on user requests. Generate efficient and clean code snippets that are adaptable to the user's specifications across various programming languages.\n",
        "  Your response should focus primarily on the code segment. ** Don't write any comment in code\n",
        "  Use triple quotes (\\\"\\\"\\\") for code blocks instead of triple backticks (```). Avoid explicitly mentioning the programming language used in your responses, unless specifically requested by the user.\n",
        "\n",
        "  {prompt}\n",
        "  \"\"\"\n",
        "  inspection_code = get_response(gemini,inspection_prompt)\n",
        "  return inspection_code\n",
        "\n",
        "def code_fixing(code, err):\n",
        "  fix_prompt = f\"\"\"\n",
        "    Analyze the provided Python code snippet and the associated error message.\n",
        "    Code snippet:\n",
        "    ```python\n",
        "    {code}\n",
        "    ```\n",
        "    Error encountered:\n",
        "    {err}\n",
        "\n",
        "    Provide a corrected version of the code that resolves the error, ensuring that the code remains efficient and functionally equivalent to the original intent. Include any necessary comments to explain changes made to fix the error.\n",
        "    \"\"\"\n",
        "  fix_prompt_code = get_response(gemini,fix_prompt)\n",
        "  return fix_prompt_code\n",
        "\n",
        "def output_evaluate(intention, output):\n",
        "  out_eva_prompt = f\"\"\"\n",
        "  Evaluate the relationship between the intended result and the actual output of a code execution.\n",
        "  Intended result:\n",
        "  {intention}\n",
        "  Actual output:\n",
        "  {output}\n",
        "\n",
        "  If the actual output does not match the intended result, generate a new prompt that guides\n",
        "  the regeneration of the code to accurately achieve the intended result.\n",
        "  If the actual output matches the intended result, respond with 'pass'.\n",
        "  \"\"\"\n",
        "\n",
        "  # Generate an evaluation or a new code prompt using an AI model (assuming the function 'get_response' handles this).\n",
        "  out_eva_code = get_response(gemini, out_eva_prompt)\n",
        "\n",
        "  # Return 'pass' if the outputs match, otherwise return the new code prompt.\n",
        "  if out_eva_code.strip().lower() == 'pass':\n",
        "      return 'pass'\n",
        "  return out_eva_code\n",
        "\n",
        "def feature_eng(df_column_pair_detail):\n",
        "  # structured_llm = model.with_structured_output(\"datascientist\")\n",
        "  prompt = f\"\"\"\n",
        "  your role is financial analyst and your task is to doing feature engineering of these data that i provided.\n",
        "  the data contain column name and column definition :\n",
        "  {df_column_pair_detail}\n",
        "  find 50 feature that has potential to be features of credit risk model by your general knowledge of banking , credit risk or other that relate to.\n",
        "  then doing creative feature engineering that combine multiple column by mathematics or statistic (such as ratios, differences, and products of existing columns, statistic value)\n",
        "  method from your list variable and translate to python pandas data wrangling at least new 30 features.\n",
        "  so the final answer that you show output for me is  the code combining all list of feature engineering column that you select and the feature engineering calculations into a single Python script using pandas.\n",
        "  in form\n",
        "  \\\"select_col = [a, b, c, d, e, ...] # 50 select columns\n",
        "  # feature engineering calculation 30 features\n",
        "  df[\\\"feature calculation1 name\\\"] = df[a]/df[b]\n",
        "  df[\\\"feature calculation2 name\\\"] = df[x] + df[b] - df[z]\n",
        "  ... \\\"\n",
        "  answer only python code don't explain and repeat question.\n",
        "  \"\"\"\n",
        "  response = llama.invoke(f\"{prompt}\")\n",
        "  return response\n",
        "\n",
        "def visualize():\n",
        "  max_tokens = 1024\n",
        "\n",
        "  # Define the initial prompt to generate visualization code\n",
        "  prompt = ChatPromptTemplate.from_messages(\n",
        "      [\n",
        "          (\n",
        "              \"system\",\n",
        "              \"You are a data scientist assistant tasked with writing clean and efficient Python code for data visualization tasks.\"\n",
        "              \" Your goal is to generate the best possible Python code based on the user's request.\"\n",
        "              \" If the user provides critique, respond with an improved version of your previous attempts.\",\n",
        "          ),\n",
        "          MessagesPlaceholder(variable_name=\"messages\"),\n",
        "      ]\n",
        "  )\n",
        "  generate = prompt | mixtral\n",
        "\n",
        "  # Define the request for generating multiple visualizations\n",
        "  request = HumanMessage(\n",
        "      content=\"Write the code to visualize all possible pairwise relationships between numerical columns of a DataFrame (df) in a single image.\"\n",
        "  )\n",
        "\n",
        "  # Generate initial code\n",
        "  initial_code = \"\"\n",
        "  for chunk in generate.stream({\"messages\": [request]}):\n",
        "      print(chunk.content, end=\"\")\n",
        "      initial_code += chunk.content\n",
        "\n",
        "  # Define the prompt to generate reflection and critique on the generated code\n",
        "  reflection_prompt = ChatPromptTemplate.from_messages(\n",
        "      [\n",
        "          (\n",
        "              \"system\",\n",
        "              \"You are an expert data scientist tasked with reviewing Python scripts. Critique and provide detailed recommendations for the generated code.\"\n",
        "              \" Include any errors, bugs, or improvements that can be made.\",\n",
        "          ),\n",
        "          MessagesPlaceholder(variable_name=\"messages\"),\n",
        "      ]\n",
        "  )\n",
        "  reflect = reflection_prompt | mixtral\n",
        "\n",
        "  # Generate reflection and critique\n",
        "  reflection = \"\"\n",
        "  for chunk in reflect.stream({\"messages\": [request, HumanMessage(content=initial_code)]}):\n",
        "      print(chunk.content, end=\"\")\n",
        "      reflection += chunk.content\n",
        "\n",
        "  # Refine the code based on the reflection\n",
        "  refined_code = \"\"\n",
        "  for chunk in generate.stream(\n",
        "      {\"messages\": [request, AIMessage(content=initial_code), HumanMessage(content=reflection)]}\n",
        "  ):\n",
        "      print(chunk.content, end=\"\")\n",
        "      refined_code = chunk.content\n",
        "\n",
        "  return refined_code\n",
        "\n",
        "def cut_python_sript( str_raw ):\n",
        "  ''' This function only extract the python script from LLM response\n",
        "  '''\n",
        "  python_script_title = re.search(\"```python\", str_raw)\n",
        "\n",
        "  # This search ``` after ```python\n",
        "  python_script_end = re.search(\"```\", str_raw[python_script_title.end()+1:])\n",
        "\n",
        "  return str_raw[python_script_title.end() : python_script_title.end() + 1 + python_script_end.start() -1 ]\n",
        "\n",
        "def clean():\n",
        "  max_tokens = 1024  # Adjust this value as needed\n",
        "\n",
        "  prompt = ChatPromptTemplate.from_messages(\n",
        "      [\n",
        "          (\n",
        "              \"system\",\n",
        "              \"You are a data scientist assistant tasked with excellent coding in data science.\"\n",
        "              \" Generate the best python possible for the user's request.\"\n",
        "              \" If the user provides critique, respond with a revised version of your previous attempts.\",\n",
        "          ),\n",
        "          MessagesPlaceholder(variable_name=\"messages\"),\n",
        "      ]\n",
        "  )\n",
        "\n",
        "  generate = prompt | mixtral\n",
        "\n",
        "  #####################################################################\n",
        "  # Generate\n",
        "  #\n",
        "\n",
        "  file_path = '/content/melb_data.csv'\n",
        "  essay = \"\"\n",
        "  request = HumanMessage(\n",
        "      content=f'''Write the python executable script to clean and handle missing data from dataframe (df) read csv from {file_path}\n",
        "                  only for numerical data and drop the column which has a lot of missing values. Please keep most column as much as possible'''\n",
        "  )\n",
        "  for chunk in generate.stream({\"messages\": [request]}):\n",
        "      print(chunk.content, end=\"\")\n",
        "      essay += chunk.content\n",
        "\n",
        "  #####################################################################\n",
        "  # Reflection\n",
        "  #\n",
        "\n",
        "  reflection_prompt = ChatPromptTemplate.from_messages(\n",
        "      [\n",
        "          (\n",
        "              \"system\",\n",
        "              \"You are an expert data scientist who can interpret python script. Generate critique and recommendations for the user's submission.\"\n",
        "              \" Provide detailed recommendations, including error, bug, etc.\",\n",
        "          ),\n",
        "          MessagesPlaceholder(variable_name=\"messages\"),\n",
        "      ]\n",
        "  )\n",
        "  reflect = reflection_prompt | mixtral\n",
        "\n",
        "  reflection = \"\"\n",
        "  for chunk in reflect.stream({\"messages\": [request, HumanMessage(content=essay)]}):\n",
        "      print(chunk.content, end=\"\")\n",
        "      reflection += chunk.content\n",
        "\n",
        "  ####################################################################\n",
        "  # Repeat\n",
        "  #\n",
        "  print('========= This is repeat ============')\n",
        "  str_raw = ''\n",
        "  for chunk in generate.stream(\n",
        "      {\"messages\": [request, AIMessage(content=essay), HumanMessage(content=reflection)]}\n",
        "  ):\n",
        "      print(chunk.content, end=\"\")\n",
        "      str_raw = str_raw + chunk.content\n",
        "\n",
        "  print('========= This after repeat ============')\n",
        "\n",
        "  ####################################################################\n",
        "  # Execute python script\n",
        "\n",
        "  # If there are still any errors left, run this cell again\n",
        "  try:\n",
        "    exec(python_script)\n",
        "  except Exception as err:\n",
        "    # Get the error information as a string\n",
        "    error_message = str(err)\n",
        "    print(f\"Error occurred during execution: {error_message}\")\n",
        "  else:\n",
        "    # This block will execute if there are no errors\n",
        "    print(\"Code executed successfully!\")\n",
        "  #\n",
        "  if error_message:\n",
        "    #####################################################################\n",
        "    # Reflection after getting error\n",
        "    #\n",
        "\n",
        "    reflection_prompt = ChatPromptTemplate.from_messages(\n",
        "        [\n",
        "            (\n",
        "                \"system\",\n",
        "                \"You are an expert data scientist who can interpret python script. Focus on fillna by mean, mode and median. Generate critique and recommendations for the user's submission.\"\n",
        "                \" Provide detailed recommendations, including error, bug, etc.\",\n",
        "            ),\n",
        "            MessagesPlaceholder(variable_name=\"messages\"),\n",
        "        ]\n",
        "    )\n",
        "    reflect = reflection_prompt | llm\n",
        "\n",
        "    reflection = \"\"\n",
        "    for chunk in reflect.stream({\"messages\": [request, HumanMessage(content= 'with' + python_script + '\\nI got this error' + error_message)]}):\n",
        "        print(chunk.content, end=\"\")\n",
        "        reflection += chunk.content\n",
        "\n",
        "    ####################################################################\n",
        "    # Repeat\n",
        "    #\n",
        "    print('========= This is repeat ============')\n",
        "    str_raw = ''\n",
        "    for chunk in generate.stream(\n",
        "        {\"messages\": [request, AIMessage(content=essay), HumanMessage(content=reflection)]}\n",
        "    ):\n",
        "        print(chunk.content, end=\"\")\n",
        "        str_raw = str_raw + chunk.content\n",
        "\n",
        "  python_script = cut_python_sript( str_raw )\n",
        "  return python_script\n",
        "\n",
        "\n"
      ]
    },
    {
      "cell_type": "code",
      "execution_count": null,
      "metadata": {
        "id": "qxW-bLMs2Tb8"
      },
      "outputs": [],
      "source": [
        "# Loop until the 'pass' condition is met\n",
        "attemp = 0\n",
        "max_attemp = 5"
      ]
    },
    {
      "cell_type": "code",
      "execution_count": null,
      "metadata": {
        "id": "kJK6JPEVOBuX"
      },
      "outputs": [],
      "source": [
        "df = pd.read_csv('/content/melb_data.csv')"
      ]
    },
    {
      "cell_type": "code",
      "execution_count": null,
      "metadata": {
        "colab": {
          "base_uri": "https://localhost:8080/"
        },
        "id": "NqlC1y2jOFAw",
        "outputId": "2792607b-e7ce-4b30-b1db-346e5f837b3b"
      },
      "outputs": [
        {
          "name": "stdout",
          "output_type": "stream",
          "text": [
            "<class 'pandas.core.frame.DataFrame'>\n",
            "RangeIndex: 13580 entries, 0 to 13579\n",
            "Data columns (total 21 columns):\n",
            " #   Column         Non-Null Count  Dtype  \n",
            "---  ------         --------------  -----  \n",
            " 0   Suburb         13580 non-null  object \n",
            " 1   Address        13580 non-null  object \n",
            " 2   Rooms          13580 non-null  int64  \n",
            " 3   Type           13580 non-null  object \n",
            " 4   Price          13580 non-null  float64\n",
            " 5   Method         13580 non-null  object \n",
            " 6   SellerG        13580 non-null  object \n",
            " 7   Date           13580 non-null  object \n",
            " 8   Distance       13580 non-null  float64\n",
            " 9   Postcode       13580 non-null  float64\n",
            " 10  Bedroom2       13580 non-null  float64\n",
            " 11  Bathroom       13580 non-null  float64\n",
            " 12  Car            13518 non-null  float64\n",
            " 13  Landsize       13580 non-null  float64\n",
            " 14  BuildingArea   7130 non-null   float64\n",
            " 15  YearBuilt      8205 non-null   float64\n",
            " 16  CouncilArea    12211 non-null  object \n",
            " 17  Lattitude      13580 non-null  float64\n",
            " 18  Longtitude     13580 non-null  float64\n",
            " 19  Regionname     13580 non-null  object \n",
            " 20  Propertycount  13580 non-null  float64\n",
            "dtypes: float64(12), int64(1), object(8)\n",
            "memory usage: 2.2+ MB\n"
          ]
        }
      ],
      "source": [
        "df.info()"
      ]
    },
    {
      "cell_type": "code",
      "execution_count": null,
      "metadata": {
        "colab": {
          "base_uri": "https://localhost:8080/",
          "height": 86
        },
        "id": "5tQ_qt_Wymhw",
        "outputId": "913e4ac9-47a1-4177-c9e8-4a2e35ebe0d2"
      },
      "outputs": [
        {
          "name": "stdout",
          "output_type": "stream",
          "text": [
            "Attempt: 0\n",
            "Regenerating code...\n",
            "Attempt: 1\n",
            "Best code generated successfully.\n"
          ]
        }
      ],
      "source": [
        "attemp = 0\n",
        "max_attemp = 10\n",
        "\n",
        "while True:\n",
        "    print(\"Attempt:\", attemp)\n",
        "    if attemp > max_attemp:\n",
        "        print(f\"Generate Failed: Tried for {max_attemp} attempts\")\n",
        "        break\n",
        "\n",
        "    user_prompt = \"Write the python code to handle the missing data only for numeric in dataframe(df)\"\n",
        "\n",
        "    generated_code = code_gen_agent(user_prompt)\n",
        "    cleaned_code = generated_code.strip().replace('\\\\\"', '\"').strip('\\\"')\n",
        "    output_capture = io.StringIO()\n",
        "    current_stdout = sys.stdout\n",
        "    sys.stdout = output_capture\n",
        "\n",
        "    try:\n",
        "        exec(cleaned_code)\n",
        "        out = output_capture.getvalue()\n",
        "        error_message = None\n",
        "        print(out)\n",
        "    except Exception as e:\n",
        "        error_message = str(e)\n",
        "        out = None\n",
        "\n",
        "    # Reset sys.stdout regardless of success or failure\n",
        "    sys.stdout = current_stdout\n",
        "    output_capture.close()\n",
        "\n",
        "    if error_message:\n",
        "        fixed_code = code_fixing(generated_code, error_message)\n",
        "        try:\n",
        "            output_capture = io.StringIO()\n",
        "            sys.stdout = output_capture\n",
        "            cleaned_code = fixed_code.strip().replace('\\\\\"', '\"').strip('\\\"')\n",
        "            exec(fixed_code)\n",
        "            out = output_capture.getvalue()\n",
        "            print(out)\n",
        "        except Exception as e:\n",
        "            out = None  # Still error in fixed code\n",
        "        finally:\n",
        "            sys.stdout = current_stdout\n",
        "            output_capture.close()\n",
        "\n",
        "    evaluation_result = output_evaluate(user_prompt, out)\n",
        "\n",
        "    if evaluation_result == 'pass':\n",
        "        print(\"Best code generated successfully.\")\n",
        "        break\n",
        "    else:\n",
        "        attemp += 1\n",
        "        print(\"Regenerating code...\")"
      ]
    },
    {
      "cell_type": "code",
      "execution_count": null,
      "metadata": {
        "colab": {
          "base_uri": "https://localhost:8080/"
        },
        "id": "GDhngUty1Pu7",
        "outputId": "cea8bfb6-e0c7-4e61-8897-c0f3bdd0b066"
      },
      "outputs": [
        {
          "name": "stdout",
          "output_type": "stream",
          "text": [
            "\n",
            "import pandas as pd\n",
            "\n",
            "# Get numeric columns\n",
            "numeric_columns = df.select_dtypes(include=['number']).columns\n",
            "\n",
            "# Replace missing values in numeric columns with mean\n",
            "df[numeric_columns] = df[numeric_columns].fillna(df[numeric_columns].mean())\n",
            "\n"
          ]
        }
      ],
      "source": [
        "print(cleaned_code)"
      ]
    },
    {
      "cell_type": "code",
      "execution_count": null,
      "metadata": {
        "colab": {
          "base_uri": "https://localhost:8080/"
        },
        "id": "fmkpjVHdPSJt",
        "outputId": "f148d3e2-e1c7-44b4-c700-d5f3134b5def"
      },
      "outputs": [
        {
          "name": "stdout",
          "output_type": "stream",
          "text": [
            "<class 'pandas.core.frame.DataFrame'>\n",
            "RangeIndex: 13580 entries, 0 to 13579\n",
            "Data columns (total 21 columns):\n",
            " #   Column         Non-Null Count  Dtype  \n",
            "---  ------         --------------  -----  \n",
            " 0   Suburb         13580 non-null  object \n",
            " 1   Address        13580 non-null  object \n",
            " 2   Rooms          13580 non-null  int64  \n",
            " 3   Type           13580 non-null  object \n",
            " 4   Price          13580 non-null  float64\n",
            " 5   Method         13580 non-null  object \n",
            " 6   SellerG        13580 non-null  object \n",
            " 7   Date           13580 non-null  object \n",
            " 8   Distance       13580 non-null  float64\n",
            " 9   Postcode       13580 non-null  float64\n",
            " 10  Bedroom2       13580 non-null  float64\n",
            " 11  Bathroom       13580 non-null  float64\n",
            " 12  Car            13580 non-null  float64\n",
            " 13  Landsize       13580 non-null  float64\n",
            " 14  BuildingArea   13580 non-null  float64\n",
            " 15  YearBuilt      13580 non-null  float64\n",
            " 16  CouncilArea    12211 non-null  object \n",
            " 17  Lattitude      13580 non-null  float64\n",
            " 18  Longtitude     13580 non-null  float64\n",
            " 19  Regionname     13580 non-null  object \n",
            " 20  Propertycount  13580 non-null  float64\n",
            "dtypes: float64(12), int64(1), object(8)\n",
            "memory usage: 2.2+ MB\n"
          ]
        }
      ],
      "source": [
        "df.info()"
      ]
    },
    {
      "cell_type": "code",
      "execution_count": null,
      "metadata": {
        "id": "8kdTOM8M_Auh"
      },
      "outputs": [],
      "source": [
        "inspection_code = code_gen_agent(\"Write the python code to create new dataframe and print the it columns name\")"
      ]
    },
    {
      "cell_type": "code",
      "execution_count": null,
      "metadata": {
        "colab": {
          "base_uri": "https://localhost:8080/"
        },
        "id": "Eve3WZeykyhm",
        "outputId": "e59f9f0f-56ad-43cc-cfa6-e5b9eb4d1936"
      },
      "outputs": [
        {
          "name": "stdout",
          "output_type": "stream",
          "text": [
            "\"\"\"\n",
            "import pandas as pd\n",
            "\n",
            "df = pd.DataFrame({\n",
            "    'Name': ['Alice', 'Bob', 'Carol'],\n",
            "    'Age': [20, 25, 30]\n",
            "})\n",
            "\n",
            "print(df.columns.tolist())\n",
            "\"\"\"\n"
          ]
        }
      ],
      "source": [
        "print(inspection_code)"
      ]
    },
    {
      "cell_type": "code",
      "execution_count": null,
      "metadata": {
        "colab": {
          "base_uri": "https://localhost:8080/"
        },
        "id": "86CAHg0OlZb1",
        "outputId": "7be5ab5c-767c-4fd1-d333-7ba216921f80"
      },
      "outputs": [
        {
          "name": "stdout",
          "output_type": "stream",
          "text": [
            "['Name', 'Age']\n"
          ]
        }
      ],
      "source": [
        "cleaned_code = inspection_code.strip().replace('\\\\\"', '\"').strip('\\\"')"
      ]
    },
    {
      "cell_type": "code",
      "execution_count": null,
      "metadata": {
        "colab": {
          "base_uri": "https://localhost:8080/"
        },
        "id": "oarx0b-zs1en",
        "outputId": "4e1fb987-00c6-4f21-a91c-d71ef656a6b2"
      },
      "outputs": [
        {
          "name": "stdout",
          "output_type": "stream",
          "text": [
            "['Name', 'Age']\n",
            "\n"
          ]
        }
      ],
      "source": [
        "output_capture = io.StringIO()\n",
        "current_stdout = sys.stdout\n",
        "sys.stdout = output_capture\n",
        "\n",
        "exec(cleaned_code)\n",
        "\n",
        "sys.stdout = current_stdout\n",
        "captured_output = output_capture.getvalue()\n",
        "out = captured_output\n",
        "print(out)"
      ]
    },
    {
      "cell_type": "code",
      "execution_count": null,
      "metadata": {
        "colab": {
          "base_uri": "https://localhost:8080/",
          "height": 35
        },
        "id": "3aHt5BMztUlY",
        "outputId": "c8b0acde-e434-47a8-ee5d-1089cb4e4de3"
      },
      "outputs": [
        {
          "data": {
            "application/vnd.google.colaboratory.intrinsic+json": {
              "type": "string"
            },
            "text/plain": [
              "\"['Name', 'Age']\\n\""
            ]
          },
          "execution_count": 54,
          "metadata": {},
          "output_type": "execute_result"
        }
      ],
      "source": [
        "out"
      ]
    },
    {
      "cell_type": "code",
      "execution_count": null,
      "metadata": {
        "id": "5r-s396zkFbJ"
      },
      "outputs": [],
      "source": [
        "out_eva = output_evaluate(\"Write the python code to create new dataframe and print the it columns name\", \"HelloWorld\")"
      ]
    },
    {
      "cell_type": "code",
      "execution_count": null,
      "metadata": {
        "colab": {
          "base_uri": "https://localhost:8080/",
          "height": 35
        },
        "id": "JOliFJ6KswZN",
        "outputId": "4f8e3d12-fb52-405b-9aa1-9029a30c0475"
      },
      "outputs": [
        {
          "data": {
            "application/vnd.google.colaboratory.intrinsic+json": {
              "type": "string"
            },
            "text/plain": [
              "'\"\"\"\\nimport pandas as pd\\n\\ndf = pd.DataFrame({\\n    \\'Name\\': [\\'Alice\\', \\'Bob\\', \\'Carol\\'],\\n    \\'Age\\': [20, 25, 30]\\n})\\n\\nprint(df.columns.tolist())\\n\"\"\"'"
            ]
          },
          "execution_count": 59,
          "metadata": {},
          "output_type": "execute_result"
        }
      ],
      "source": [
        "out_eva"
      ]
    },
    {
      "cell_type": "code",
      "execution_count": null,
      "metadata": {
        "id": "cI9JpGVU_31s"
      },
      "outputs": [],
      "source": [
        "df = pl.read_csv('/content/training.csv')\n",
        "df = df.to_pandas()"
      ]
    },
    {
      "cell_type": "code",
      "execution_count": null,
      "metadata": {
        "id": "r27SjZgS-4P6"
      },
      "outputs": [],
      "source": [
        "def get_column_details(df):\n",
        "    details = {\n",
        "        'Column Name': df.columns,\n",
        "        'Data Type': df.dtypes,\n",
        "        'Missing Values': df.isnull().sum(),\n",
        "        'Unique Values': df.nunique(),\n",
        "        'Summary Statistics': df.describe(include='all').T\n",
        "    }\n",
        "\n",
        "    return details\n",
        "\n",
        "details_df = get_column_details(df)\n",
        "cols = df.columns.to_list()"
      ]
    },
    {
      "cell_type": "code",
      "execution_count": null,
      "metadata": {
        "colab": {
          "base_uri": "https://localhost:8080/"
        },
        "id": "QatkuYCSAe5F",
        "outputId": "e62b3ba7-488b-415d-9ac8-65ef3ffc8ef9"
      },
      "outputs": [
        {
          "data": {
            "text/plain": [
              "dict_keys(['Column Name', 'Data Type', 'Missing Values', 'Unique Values', 'Summary Statistics'])"
            ]
          },
          "execution_count": 53,
          "metadata": {},
          "output_type": "execute_result"
        }
      ],
      "source": [
        "details_df.keys()"
      ]
    },
    {
      "cell_type": "code",
      "execution_count": null,
      "metadata": {
        "id": "hJju2b6--eFF"
      },
      "outputs": [],
      "source": [
        "summarize_promt = f\"\"\"from these columns detail {details_df} columns name {df.columns.to_list()} and these data describe \\\" Columns\n",
        "Special columns:\n",
        "\n",
        "case_id - This is the unique identifier for each credit case. You'll need this ID to join relevant tables to the base table.\n",
        "date_decision - This refers to the date when a decision was made regarding the approval of the loan.\n",
        "WEEK_NUM - This is the week number used for aggregation. In the test sample, WEEK_NUM continues sequentially from the last training value of WEEK_NUM.\n",
        "MONTH - This column represents the month and is intended for aggregation purposes.\n",
        "target - This is the target value, determined after a certain period based on whether or not the client defaulted on the specific credit case (loan).\n",
        "num_group1 - This is an indexing column used for the historical records of case_id in both depth=1 and depth=2 tables.\n",
        "num_group2 - This is the second indexing column for depth=2 tables' historical records of case_id. The order of num_group1 and num_group2 is important and will be clarified in feature definitions.\n",
        "All other raw columns in the tables serve as predictors. Their definitions can be found in the file feature_definitions.csv. For depth=0 tables, predictors can be directly used as features. However, for tables with depth>0, you may need to employ aggregation functions that will condense the historical records associated with each case_id into a single feature. In case num_group1 or num_group2 stands for person index (this is clear with predictor definitions) the zero index has special meaning. When num_groupN=0 it is the applicant (the person who applied for a loan).\n",
        "\n",
        "Various predictors were transformed, therefore we have the following notation for similar groups of transformations\n",
        "\n",
        "P - Transform DPD (Days past due)\n",
        "M - Masking categories\n",
        "A - Transform amount\n",
        "D - Transform date\n",
        "T - Unspecified Transform\n",
        "L - Unspecified Transform\n",
        "Please note that transformations within a group are denoted by a capital letter at the end of the predictor name (e.g., maxdbddpdtollast6m_4187119P). We hope that this will simplify the manipulation with predictors.\n",
        "\n",
        "Edits:\n",
        "\n",
        "pmts_month_158T is for active contract\n",
        "pmts_month_706T is for closed contract\n",
        "dateofcredstart_181D - Start date of a credit contract.\\\" I need you to summarize every columns and explain to me\"\"\"\n",
        "summarize_res = get_response(model,summarize_promt)"
      ]
    },
    {
      "cell_type": "code",
      "execution_count": null,
      "metadata": {
        "colab": {
          "base_uri": "https://localhost:8080/"
        },
        "id": "EQ3u-xx7AAgH",
        "outputId": "5491e51a-2663-4b8b-82f6-7eddea44cf99"
      },
      "outputs": [
        {
          "name": "stdout",
          "output_type": "stream",
          "text": [
            "**Column Name** | **Description**\n",
            "------- | --------\n",
            "**case_id** | Unique identifier for each credit case.\n",
            "**WEEK_NUM** | Week number used for aggregation.\n",
            "**target** | Whether or not the client defaulted on the specific credit case (loan).\n",
            "**month_decision** | Date when a decision was made regarding the approval of the loan.\n",
            "**weekday_decision** | Day of the week when a decision was made regarding the approval of the loan.\n",
            "**credamount_770A** | Amount of credit approved.\n",
            "**applicationcnt_361L** | Number of applications in the last 3 months.\n",
            "**applications30d_658L** | Number of applications in the last 30 days.\n",
            "**applicationscnt_1086L** | Number of applications in the last 12 months.\n",
            "**applicationscnt_464L** | Number of applications in the last 6 months.\n",
            "**applicationscnt_867L** | Number of applications in the last 18 months.\n",
            "**clientscnt_1022L** | Number of clients in the last 12 months.\n",
            "**clientscnt_100L** | Number of clients in the last 6 months.\n",
            "**clientscnt_1071L** | Number of clients in the last 24 months.\n",
            "**clientscnt_1130L** | Number of clients in the last 36 months.\n",
            "**clientscnt_157L** | Number of clients in the last 12 months.\n",
            "**clientscnt_257L** | Number of clients in the last 3 months.\n",
            "**clientscnt_304L** | Number of clients in the last 6 months.\n",
            "**clientscnt_360L** | Number of clients in the last 6 months.\n",
            "**clientscnt_493L** | Number of clients in the last 6 months.\n",
            "**clientscnt_533L** | Number of clients in the last 12 months.\n",
            "**clientscnt_887L** | Number of clients in the last 24 months.\n",
            "**clientscnt_946L** | Number of clients in the last 36 months.\n",
            "**deferredmnthsnum_166L** | Number of deferred months in the last 12 months.\n",
            "**disbursedcredamount_1113A** | Amount of credit disbursed.\n",
            "**downpmt_116A** | Down payment amount.\n",
            "**homephncnt_628L** | Number of home phone numbers.\n",
            "**isbidproduct_1095L** | Whether or not the product is a bid product.\n",
            "**mobilephncnt_593L** | Number of mobile phone numbers.\n",
            "**numactivecreds_622L** | Number of active credit accounts.\n",
            "**numactivecredschannel_414L** | Number of active credit accounts through a specific channel.\n",
            "**numactiverelcontr_750L** | Number of active related contracts.\n",
            "**numcontrs3months_479L** | Number of contracts in the last 3 months.\n",
            "**numnotactivated_1143L** | Number of non-activated contracts.\n",
            "**numpmtchanneldd_318L** | Number of payments through a specific channel.\n",
            "**numrejects9m_859L** | Number of rejected applications in the last 9 months.\n",
            "**sellerplacecnt_915L** | Number of seller placements.\n",
            "**max_mainoccupationinc_384A** | Maximum main occupation income.\n",
            "**max_birth_259D** | Maximum birth year.\n",
            "**max_num_group1_9** | Maximum number of records in group 1.\n",
            "**dateofbirth_337D** | Date of birth.\n",
            "**days180_256L** | Number of days since the last 180 days.\n",
            "**days30_165L** | Number of days since the last 30 days.\n",
            "**days360_512L** | Number of days since the last 360 days.\n",
            "**firstquarter_103L** | Whether or not the month is in the first quarter.\n",
            "**fourthquarter_440L** | Whether or not the month is in the fourth quarter.\n",
            "**secondquarter_766L** | Whether or not the month is in the second quarter.\n",
            "**thirdquarter_1082L** | Whether or not the month is in the third quarter.\n",
            "**max_debtoutstand_525A** | Maximum outstanding debt.\n",
            "**max_debtoverdue_47A** | Maximum overdue debt.\n",
            "**max_refreshdate_3813885D** | Maximum refresh date.\n",
            "**mean_refreshdate_3813885D** | Mean refresh date.\n",
            "**actualdpdtolerance_344P** | Actual DPD tolerance.\n",
            "**amtinstpaidbefduel24m_4187115A** | Amount of installments paid before the due date in the last 24 months.\n",
            "**numinstlswithdpd5_4187116L** | Number of installments with a DPD of 5 in the last 24 months.\n",
            "**annuitynextmonth_57A** | Annuity for the next month.\n",
            "**currdebt_22A** | Current debt.\n",
            "**currdebtcredtyperange_828A** | Current debt credit type range.\n",
            "**numinstls_657L** | Number of installments.\n",
            "**totalsettled_863A** | Total settled amount.\n",
            "**mindbddpdlast24m_3658935P** | Minimum DBD DPD in the last 24 months.\n",
            "**avgdpdtolclosure24_3658938P** | Average DPD tolerance for closure in the last 24 months.\n",
            "**avginstallast24m_3658937A** | Average installment amount in the last 24 months.\n",
            "**maxinstallast24m_3658928A** | Maximum installment amount in the last 24 months.\n",
            "**avgmaxdpdlast9m_3716943P** | Average maximum DPD in the last 9 months.\n",
            "**cntincpaycont9m_3716944L** | Count of payments in the last 9 months.\n",
            "**cntpmts24_3658933L** | Count of payments in the last 24 months.\n",
            "**commnoinclast6m_3546845L** | Number of communications with no income in the last 6 months.\n",
            "**maxdpdfrom6mto36m_3546853P** | Maximum DPD from 6 months to 36 months.\n",
            "**daysoverduetolerancedd_3976961L** | Days overdue tolerance DD.\n",
            "**numinsttopaygr_769L** | Number of installments to pay the group.\n",
            "**eir_270L** | EIR (Effective Interest Rate).\n",
            "**firstdatedue_489D** | First date due.\n",
            "**lastactivateddate_801D** | Last activated date.\n",
            "**lastapplicationdate_877D** | Last application date.\n",
            "**mean_creationdate_885D** | Mean creation date.\n",
            "**max_num_group1** | Maximum number of records in group 1.\n",
            "**last_num_group1** | Last number of records in group 1.\n",
            "**lastapprcredamount_781A** | Last approved credit amount.\n",
            "**lastapprdate_640D** | Last approved date.\n",
            "**maininc_215A** | Main income.\n",
            "**mastercontrelectronic_519L** | Whether or not the master contract is electronic.\n",
            "**mastercontrexist_109L** | Whether or not the master contract exists.\n",
            "**maxannuity_159A** | Maximum annuity.\n",
            "**maxdebt4_972A** | Maximum debt 4.\n",
            "**maxdpdlast24m_143P** | Maximum DPD in the last 24 months.\n",
            "**maxdpdlast3m_392P** | Maximum DPD in the last 3 months.\n",
            "**maxdpdtolerance_374P** | Maximum DPD tolerance.\n",
            "**maxdbddpdtollast12m_3658940P** | Maximum DBD DPD tolerance in the last 12 months.\n",
            "**numinstpaidearly_338L** | Number of installments paid early.\n",
            "**numinstpaidearly5d_1087L** | Number of installments paid early in the last 5 days.\n",
            "**numinstpaidlate1d_3546852L** | Number of installments paid late in the last 1 day.\n",
            "**numincomingpmts_3546848L** | Number\n"
          ]
        }
      ],
      "source": [
        "print(summarize_res)"
      ]
    },
    {
      "cell_type": "code",
      "execution_count": null,
      "metadata": {
        "id": "3tP0bYeTACxn"
      },
      "outputs": [],
      "source": []
    }
  ],
  "metadata": {
    "colab": {
      "provenance": []
    },
    "kernelspec": {
      "display_name": "Python 3",
      "name": "python3"
    },
    "language_info": {
      "name": "python"
    }
  },
  "nbformat": 4,
  "nbformat_minor": 0
}
